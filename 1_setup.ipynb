{
 "cells": [
  {
   "cell_type": "markdown",
   "metadata": {},
   "source": [
    "### Setup \n",
    "##### This notebook ensures all packages are working correctly and sets up environmental Variables\n",
    "\n",
    "I've struggled to get the server running correctly with the latest few versions of xarray even with the help of the developers. I've included a second environment that works for me in addition to the one currently reccomended by the developers.\n",
    "\n",
    "Please try to set up environment 1 and run the tests below. If it doesn't work, please try environment 2.\n",
    "If everything works, move on to notebook 2. \n",
    "\n",
    "Thanks,\n",
    "Thom\n",
    "\n",
    "---\n",
    "\n",
    "##### Environment 1\n",
    "env 1 is stored in environment_default.yml \n",
    "\n",
    "try ``` conda env create -f evironment_default.yml ```\n",
    "\n",
    "##### Environment 2\n",
    "env 2 is stored in environment2.yml \n",
    "try ``` conda env create -f evironment2.yml ``` as a fallback\n",
    "\n",
    "---\n",
    "---\n"
   ]
  },
  {
   "cell_type": "markdown",
   "metadata": {},
   "source": []
  },
  {
   "cell_type": "code",
   "execution_count": 2,
   "metadata": {},
   "outputs": [
    {
     "data": {
      "text/plain": [
       "<xarray.backends.zarr.ZarrStore at 0x76345d781700>"
      ]
     },
     "execution_count": 2,
     "metadata": {},
     "output_type": "execute_result"
    }
   ],
   "source": [
    "# Let's create some test data\n",
    "import xarray as xr\n",
    "import zarr\n",
    "import numpy as np\n",
    "import pandas as pd\n",
    "\n",
    "\n",
    "# Create a simple xarray Dataset\n",
    "data = xr.Dataset(\n",
    "    {\n",
    "        \"temperature\": ((\"time\", \"lat\", \"lon\"), 20 * np.random.rand(4, 3, 2)),\n",
    "    },\n",
    "    coords={\n",
    "        \"time\": pd.date_range(\"2023-01-01\", periods=4),\n",
    "        \"lat\": [10, 20, 30],\n",
    "        \"lon\": [100, 110],\n",
    "    },\n",
    ")\n",
    "chunks = (2, 2, 2)\n",
    "# Save the dataset as a Zarr store\n",
    "data.to_zarr(store=\"simple_zarr_dataset.zarr\", consolidated=True, mode=\"w\")"
   ]
  },
  {
   "cell_type": "markdown",
   "metadata": {},
   "source": [
    "##### run test_zarr_server.py \n",
    "\n",
    "``` python test_zarr_server.py ```\n",
    "\n",
    "##### Check if server works - if not, go try evironment 2. If that doesn't work, please let me know!\n"
   ]
  },
  {
   "cell_type": "code",
   "execution_count": 3,
   "metadata": {},
   "outputs": [],
   "source": [
    "import zarr\n",
    "from fsspec.implementations.http import HTTPFileSystem\n",
    "import xarray as xr\n",
    "\n",
    "fs = HTTPFileSystem()\n",
    "\n",
    "# The URL 'http://0.0.0.0:9000/zarr/' here serves one dataset\n",
    "http_map = fs.get_mapper(\"http://0.0.0.0:8000/zarr/\")\n",
    "\n",
    "# open as a zarr group\n",
    "\n",
    "# or open as another Xarray Dataset\n",
    "ds = xr.open_zarr(http_map, consolidated=True)"
   ]
  },
  {
   "cell_type": "code",
   "execution_count": 8,
   "metadata": {},
   "outputs": [
    {
     "data": {
      "text/plain": [
       "<matplotlib.collections.QuadMesh at 0x76344f5e8390>"
      ]
     },
     "execution_count": 8,
     "metadata": {},
     "output_type": "execute_result"
    },
    {
     "data": {
      "image/png": "[encoded data removed]",
      "text/plain": [
       "<Figure size 640x480 with 2 Axes>"
      ]
     },
     "metadata": {},
     "output_type": "display_data"
    }
   ],
   "source": [
    "ds[\"temperature\"].isel(time=2).plot()"
   ]
  },
  {
   "cell_type": "code",
   "execution_count": null,
   "metadata": {},
   "outputs": [],
   "source": [
    "# finally, some environment setup\n",
    "# we need a path to a folder containing some netcdfs (we will recursively search subfolders and select the first 50 for a test)\n",
    "# this could be something like .../.../PRISM/\n",
    "from dotenv import load_dotenv, set_key\n",
    "\n",
    "netcdf_input_path = \"yourpathhere\"\n",
    "\n",
    "\n",
    "# We also need a place to store the zarr files - only 500MB space is needed for the test\n",
    "zarr_output_path = \"yourpathhere\"\n",
    "\n",
    "\n",
    "env_file = \".env\"\n",
    "set_key(env_file, \"INPUT_NCDF_DIRECTORY\", netcdf_input_path)\n",
    "set_key(env_file, \"OUTPUT_ZARR_STORE\", zarr_output_path)\n",
    "\n",
    "print(f\"NetCDF input path set to: {netcdf_input_path}\")\n",
    "print(f\"Zarr output path set to: {zarr_output_path}\")"
   ]
  },
  {
   "cell_type": "code",
   "execution_count": null,
   "metadata": {},
   "outputs": [],
   "source": []
  },
  {
   "cell_type": "markdown",
   "metadata": {},
   "source": []
  }
 ],
 "metadata": {
  "kernelspec": {
   "display_name": "xpublish_env_2024",
   "language": "python",
   "name": "python3"
  },
  "language_info": {
   "codemirror_mode": {
    "name": "ipython",
    "version": 3
   },
   "file_extension": ".py",
   "mimetype": "text/x-python",
   "name": "python",
   "nbconvert_exporter": "python",
   "pygments_lexer": "ipython3",
   "version": "3.11.11"
  }
 },
 "nbformat": 4,
 "nbformat_minor": 2
}
